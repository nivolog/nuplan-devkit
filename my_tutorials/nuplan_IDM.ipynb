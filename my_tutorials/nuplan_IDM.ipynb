{
 "cells": [
  {
   "cell_type": "markdown",
   "id": "63ae56b0",
   "metadata": {
    "pycharm": {
     "name": "#%% md\n"
    }
   },
   "source": [
    "![](https://www.nuplan.org/static/media/nuPlan_final.3fde7586.png)"
   ]
  },
  {
   "cell_type": "markdown",
   "id": "7e01e5d2",
   "metadata": {
    "pycharm": {
     "name": "#%% md\n"
    }
   },
   "source": [
    "### Contents\n",
    "\n",
    "1. [Introduction](#introduction)\n",
    "2. [Creating the planner](#planning)\n",
    "3. [Simulating the planner](#simulation)\n",
    "4. [Visualizing metrics and scenarios](#dashboard)"
   ]
  },
  {
   "cell_type": "markdown",
   "id": "34460db1",
   "metadata": {
    "pycharm": {
     "name": "#%% md\n"
    }
   },
   "source": [
    "# Creating a new planner in nuPlan <a name=\"introduction\"></a>\n"
   ]
  },
  {
   "cell_type": "markdown",
   "id": "01b6b6ee",
   "metadata": {
    "pycharm": {
     "name": "#%% md\n"
    }
   },
   "source": [
    "Welcome to the nuplan planning tutorial. One of the core interactions with nuplan will be to build and train your own planners and run them through nuplan's simulation pipeline for evaluation. While we discuss how to train your machine learned planners in other tutorials, in this tutorial we will show you the basic elements you will need for constructing a planner that plugs into the nuplan interface. We will also show you the basics of running the planner in simulation and visualizing the behavior and metrics for evaluation."
   ]
  },
  {
   "cell_type": "markdown",
   "id": "f0189156",
   "metadata": {
    "pycharm": {
     "name": "#%% md\n"
    }
   },
   "source": [
    "## Setup\n",
    "\n",
    "To be able to access all resources within this notebook, make sure Jupyter is launched at the root of this repo. The path of the notebook should be `/notebook/<repo_root>`."
   ]
  },
  {
   "cell_type": "code",
   "execution_count": 1,
   "id": "13c00121",
   "metadata": {
    "pycharm": {
     "name": "#%%\n"
    }
   },
   "outputs": [
    {
     "name": "stderr",
     "output_type": "stream",
     "text": [
      "/tmp/ipykernel_59371/911397167.py:2: DeprecationWarning: Importing display from IPython.core.display is deprecated since IPython 7.14, please import from IPython display\n",
      "  from IPython.core.display import display, HTML\n"
     ]
    },
    {
     "data": {
      "text/html": [
       "<style>.output_result { max-width:100% !important; }</style>"
      ],
      "text/plain": [
       "<IPython.core.display.HTML object>"
      ]
     },
     "metadata": {},
     "output_type": "display_data"
    },
    {
     "data": {
      "text/html": [
       "<style>.container { width:100% !important; }</style>"
      ],
      "text/plain": [
       "<IPython.core.display.HTML object>"
      ]
     },
     "metadata": {},
     "output_type": "display_data"
    }
   ],
   "source": [
    "# (Optional) Increase notebook width for all embedded cells to display properly\n",
    "from IPython.core.display import display, HTML\n",
    "\n",
    "display(HTML(\"<style>.output_result { max-width:100% !important; }</style>\"))\n",
    "display(HTML(\"<style>.container { width:100% !important; }</style>\"))"
   ]
  },
  {
   "cell_type": "code",
   "execution_count": 2,
   "id": "779b0132",
   "metadata": {
    "pycharm": {
     "name": "#%%\n"
    }
   },
   "outputs": [],
   "source": [
    "# Useful imports\n",
    "import os\n",
    "from pathlib import Path\n",
    "import tempfile\n",
    "\n",
    "import hydra"
   ]
  },
  {
   "cell_type": "markdown",
   "id": "edf9156f",
   "metadata": {
    "pycharm": {
     "name": "#%% md\n"
    }
   },
   "source": [
    "# Creating the planner <a name=\"planning\"></a>"
   ]
  },
  {
   "cell_type": "markdown",
   "id": "b21f4f69",
   "metadata": {
    "pycharm": {
     "name": "#%% md\n"
    }
   },
   "source": [
    "The planner is the main component responsible for determining the ego vehicle's behavior. At it's core, a planner will consume state information in the form of observations regarding its own pose, poses of other agents, and various static and dynamic map information, along with a goal, and produce a trajectory dictating the future path that the ego vehicle will attempt to follow according to a given control strategy.\n",
    "\n",
    "<img src=\"media/planner_inputs_outputs_diagram.drawio.svg\"/>\n",
    "\n",
    "In nuplan, all planners will inherit from the *AbstractPlanner* class and, along with whatever additional functionality you provide it, will have to implement a few core methods. Let's take a look at the *AbstractPlanner* class."
   ]
  },
  {
   "cell_type": "markdown",
   "id": "42ff5db7",
   "metadata": {
    "pycharm": {
     "name": "#%% md\n"
    }
   },
   "source": [
    "Let's take a look at these core methods one by one.\n",
    "\n",
    "**initialize**: This method initializes the planner with important static information including the high level goal, represented as a (x, y, heading) pose, which in practice might be provided a higher level routing system, as well as the interface for interacting with relevant map information.\n",
    "\n",
    "**name**: The name of the planner. This one's easy!\n",
    "\n",
    "**observation_type**: This dictates what type of observations the planner will consume to inform it's decision making. Options here include *Sensors* (raw sensor information such as images or pointclouds) and *DetectionsTracks* (outputs of an earlier perception system designed to consume sensor information and produce meaningful detections).\n",
    "\n",
    "**compute_trajectory**: This is the core behavior of the planner, and the part you will most likely spend the most time on. This method will consume a history buffer containing discretized past ego trajectory information as well as observations of the type declared in *observation_type* up until the current time step. Correctly accounting for historical as well as current information will allow the planner to produce more stable and strategic behaviors and avoid overcorrecting in the presence of noisy observations. The *compute_trajectory* method will be responsible for producing the trajectory dictating the path the ego vehicle will attempt to follow in the future. The trajectory represents the series of ego states (identifying pose along with dynamic information such as velocities and accelerations) the vehicle will try to attain along a specified time horizon, most easily represented as a list of states along with a method to interpolate between them.\n",
    "\n",
    "\n",
    "We will now use the *SimplePlanner* class as an example of how to implement the *AbstractPlanner* interface with a real planner."
   ]
  },
  {
   "cell_type": "code",
   "execution_count": 3,
   "id": "d8f1b203",
   "metadata": {
    "pycharm": {
     "name": "#%%\n"
    }
   },
   "outputs": [],
   "source": [
    "from typing import List, Type\n",
    "\n",
    "import numpy as np\n",
    "import numpy.typing as npt\n",
    "\n",
    "from nuplan.common.actor_state.ego_state import DynamicCarState, EgoState\n",
    "from nuplan.common.actor_state.state_representation import StateSE2, StateVector2D, TimePoint\n",
    "from nuplan.common.actor_state.vehicle_parameters import get_pacifica_parameters, VehicleParameters\n",
    "from nuplan.planning.simulation.observation.observation_type import DetectionsTracks, Observation\n",
    "from nuplan.planning.simulation.planner.abstract_planner import AbstractPlanner, PlannerInitialization, PlannerInput\n",
    "from nuplan.planning.simulation.trajectory.interpolated_trajectory import  InterpolatedTrajectory\n",
    "from nuplan.planning.simulation.trajectory.abstract_trajectory import AbstractTrajectory\n",
    "from nuplan.planning.simulation.controller.motion_model.kinematic_bicycle import KinematicBicycleModel\n",
    "\n",
    "\n",
    "# class SimplePlanner(AbstractPlanner):\n",
    "#     \"\"\"\n",
    "#     Planner going straight\n",
    "#     \"\"\"\n",
    "\n",
    "#     def __init__(self,\n",
    "#                  horizon_seconds: float,\n",
    "#                  sampling_time: float,\n",
    "#                  acceleration: npt.NDArray[np.float32],\n",
    "#                  max_velocity: float = 5.0,\n",
    "#                  steering_angle: float = 0.0):\n",
    "#         self.horizon_seconds = TimePoint(int(horizon_seconds * 1e6))\n",
    "#         self.sampling_time = TimePoint(int(sampling_time * 1e6))\n",
    "#         self.acceleration = StateVector2D(acceleration[0], acceleration[1])\n",
    "#         self.max_velocity = max_velocity\n",
    "#         self.steering_angle = steering_angle\n",
    "#         self.vehicle = get_pacifica_parameters()\n",
    "#         self.motion_model = KinematicBicycleModel(self.vehicle)\n",
    "\n",
    "#     def initialize(self, initialization: List[PlannerInitialization]) -> None:\n",
    "#         \"\"\" Inherited, see superclass. \"\"\"\n",
    "#         pass\n",
    "\n",
    "#     def name(self) -> str:\n",
    "#         \"\"\" Inherited, see superclass. \"\"\"\n",
    "#         return self.__class__.__name__\n",
    "\n",
    "#     def observation_type(self) -> Type[Observation]:\n",
    "#         \"\"\" Inherited, see superclass. \"\"\"\n",
    "#         return DetectionsTracks  # type: ignore\n",
    "\n",
    "#     def compute_planner_trajectory(self, current_input: PlannerInput) -> List[AbstractTrajectory]:\n",
    "#         \"\"\"\n",
    "#         Implement a trajectory that goes straight.\n",
    "#         Inherited, see superclass.\n",
    "#         \"\"\"\n",
    "#         # Extract iteration and history\n",
    "#         iteration = current_input.iteration\n",
    "#         history = current_input.history\n",
    "\n",
    "#         ego_state = history.ego_states[-1]\n",
    "#         state = EgoState(\n",
    "#             car_footprint=ego_state.car_footprint,\n",
    "#             dynamic_car_state=DynamicCarState.build_from_rear_axle(\n",
    "#                 ego_state.car_footprint.rear_axle_to_center_dist,\n",
    "#                 ego_state.dynamic_car_state.rear_axle_velocity_2d,\n",
    "#                 self.acceleration,\n",
    "#             ),\n",
    "#             tire_steering_angle=self.steering_angle,\n",
    "#             is_in_auto_mode=True,\n",
    "#             time_point=ego_state.time_point,\n",
    "#         )\n",
    "#         trajectory: List[EgoState] = [state]\n",
    "#         for _ in np.arange(\n",
    "#             iteration.time_us + self.sampling_time.time_us,\n",
    "#             iteration.time_us + self.horizon_seconds.time_us,\n",
    "#             self.sampling_time.time_us,\n",
    "#         ):\n",
    "#             if state.dynamic_car_state.speed > self.max_velocity:\n",
    "#                 accel = self.max_velocity - state.dynamic_car_state.speed\n",
    "#                 state = EgoState.build_from_rear_axle(\n",
    "#                     rear_axle_pose=state.rear_axle,\n",
    "#                     rear_axle_velocity_2d=state.dynamic_car_state.rear_axle_velocity_2d,\n",
    "#                     rear_axle_acceleration_2d=StateVector2D(accel, 0),\n",
    "#                     tire_steering_angle=state.tire_steering_angle,\n",
    "#                     time_point=state.time_point,\n",
    "#                     vehicle_parameters=state.car_footprint.vehicle_parameters,\n",
    "#                     is_in_auto_mode=True,\n",
    "#                     angular_vel=state.dynamic_car_state.angular_velocity,\n",
    "#                     angular_accel=state.dynamic_car_state.angular_acceleration,\n",
    "#                 )\n",
    "\n",
    "#             state = self.motion_model.propagate_state(state, state.dynamic_car_state, self.sampling_time)\n",
    "#             trajectory.append(state)\n",
    "\n",
    "#         return InterpolatedTrajectory(trajectory)"
   ]
  },
  {
   "cell_type": "markdown",
   "id": "1945b81c",
   "metadata": {
    "pycharm": {
     "name": "#%% md\n"
    }
   },
   "source": [
    "The *SimplePlanner* is very simple indeed, electing to just drive straight according to a specified steering angle. It doesn't even take into account the observations it receives!\n",
    "\n",
    "The *initialize*, *name*, and *observation_type* methods are straightforward implementations of the *AbstractPlanner* interface. The observation type here is declared as *DetectionsTracks* for use with processed detections coming from the perception system, though we note that the observations are completely ignored in the *compute_trajectory* method (we would still want to change this to *Sensors* for use with raw sensor data such as lidar pointclouds). Furthermore, we note the additional *\\_\\_init\\_\\_* method that sets intrinsic parameters of the planner, such as what steering angle it will follow and by how much it will accelerate.\n",
    "\n",
    "The *compute_trajectory* method applies the motion model of the car to update the current velocity profile with the straight line acceleration specified at initialization, rolling this out according to the horizon also specified at initialization. A more advanced planner would take the observation history and map into account and try to reach the goal specified at initialization."
   ]
  },
  {
   "cell_type": "markdown",
   "id": "128b0d15",
   "metadata": {
    "pycharm": {
     "name": "#%% md\n"
    }
   },
   "source": [
    "# Simulating the planner <a name=\"simulation\"></a>"
   ]
  },
  {
   "cell_type": "markdown",
   "id": "10f14dbe",
   "metadata": {
    "pycharm": {
     "name": "#%% md\n"
    }
   },
   "source": [
    "## Open-loop simulation\n",
    "Open-loop simulation aims to evaluate the policy's capabilities to imitate the expert driver's behavior.<br />\n",
    "This is essentially done through log replay as the policy's predictions do not affect the state of the simulation.\n",
    "\n",
    "As the policy is not in full control of the vehicle, this type of simulation can only provide a high-level performance overview.\n",
    "\n",
    "## Closed-loop simulation\n",
    "Conversely, in closed-loop simulation the policy's actions alter the state of the simulation which tries to closely approximate the real-world system.\n",
    "\n",
    "The simulation's feedback loop enables a more in-depth evaluation of the policy as compounding errors can cause future observations to significantly diverge from the ground truth.<br />\n",
    "This is important in measuring distribution shifts introduced due to lack of variance in training examples through pure imitation learning.\n",
    "\n",
    "Closed-loop simulation is further divided into two categories:\n",
    "* ego closed-loop simulation with agents replayed from log (open-loop, non reactive)\n",
    "* ego closed-loop simulation with agents controlled by a rule-based or learned policy (closed-loop, reactive)"
   ]
  },
  {
   "cell_type": "markdown",
   "id": "f5770200",
   "metadata": {
    "pycharm": {
     "name": "#%% md\n"
    }
   },
   "source": [
    "## Simulation parameters"
   ]
  },
  {
   "cell_type": "markdown",
   "id": "22682633",
   "metadata": {
    "pycharm": {
     "name": "#%% md\n"
    }
   },
   "source": [
    "### Ego Controller\n",
    "\n",
    "Change the controller the ego vehicle uses to track the trajectory supplied by the planner (in the case of closed-loop) or whether log replay is used (open-loop) with `ego_controller=X` where `X` is a config yaml defined in the table below. \n",
    "\n",
    "| Ego controller | Description | Config |\n",
    "| --- | --- | --- |\n",
    "| Log play back controller | Open-loop simulation via log replay | `log_play_back_controller` |\n",
    "| Perfect tracking controller | Ego perfectly tracks given trajectory (closed-loop) | `perfect_tracking_controller` |"
   ]
  },
  {
   "cell_type": "markdown",
   "id": "55a51f0c",
   "metadata": {
    "pycharm": {
     "name": "#%% md\n"
    }
   },
   "source": [
    "### Observation\n",
    "\n",
    "Change the type of observation supplied to the planner with `observation=X` where `X` is a config yaml defined in the table below. \n",
    "\n",
    "| Observation | Description | Config |\n",
    "| --- | --- | --- |\n",
    "| Box observation | Bounding boxes | `box_observation` |\n",
    "| IDM agents observation | Smart agent detections | `idm_agents_observation` | \n",
    "|Lidar pc observation | Lidar point clouds from the scenario | `lidar_pc_observation` |"
   ]
  },
  {
   "cell_type": "markdown",
   "id": "db337ceb",
   "metadata": {
    "pycharm": {
     "name": "#%% md\n"
    }
   },
   "source": [
    "## Prepare the simulation config"
   ]
  },
  {
   "cell_type": "code",
   "execution_count": 13,
   "id": "11b08c6d",
   "metadata": {
    "pycharm": {
     "name": "#%%\n"
    }
   },
   "outputs": [],
   "source": [
    "from tutorials.utils.tutorial_utils import construct_simulation_hydra_paths\n",
    "\n",
    "# Location of paths with all simulation configs\n",
    "BASE_CONFIG_PATH = os.path.join(os.getenv('NUPLAN_TUTORIAL_PATH', ''), '../nuplan/planning/script')\n",
    "simulation_hydra_paths = construct_simulation_hydra_paths(BASE_CONFIG_PATH)\n",
    "\n",
    "# Create a temporary directory to store the simulation artifacts\n",
    "# SAVE_DIR = tempfile.mkdtemp()\n",
    "SAVE_DIR = '/hdd/vladislav/nuplan-results'\n",
    "# Select simulation parameters\n",
    "EGO_CONTROLLER = 'perfect_tracking_controller'  # [log_play_back_controller, perfect_tracking_controller]\n",
    "OBSERVATION = 'idm_agents_observation'  # [box_observation, idm_agents_observation, lidar_pc_observation]\n",
    "CHALLENGE = 'closed_loop_reactive_agents'  # [open_loop_boxes, closed_loop_nonreactive_agents, closed_loop_reactive_agents]\n",
    "DATASET_PARAMS = [\n",
    "    'scenario_builder=nuplan_mini',  # use nuplan mini database\n",
    "    'scenario_filter=all_scenarios',  # initially select all scenarios in the database\n",
    "    'scenario_filter.scenario_types=[starting_straight_traffic_light_intersection_traversal, high_lateral_acceleration, changing_lane, high_magnitude_speed, low_magnitude_speed, starting_left_turn, starting_right_turn, stopping_with_lead, following_lane_with_lead, near_multiple_vehicles, traversing_pickup_dropoff, behind_long_vehicle, waiting_for_pedestrian_to_cross, stationary_in_traffic]',  # select scenario types\n",
    "    'scenario_filter.num_scenarios_per_type=10',  # use 10 scenarios per scenario type\n",
    "]\n",
    "\n",
    "# Name of the experiment\n",
    "EXPERIMENT = 'idm_planner_experiment'\n",
    "\n",
    "# Initialize configuration management system\n",
    "hydra.core.global_hydra.GlobalHydra.instance().clear()  # reinitialize hydra if already initialized\n",
    "hydra.initialize(config_path=simulation_hydra_paths.config_path)\n",
    "\n",
    "# Compose the configuration\n",
    "cfg = hydra.compose(config_name=simulation_hydra_paths.config_name, overrides=[\n",
    "    f'group={SAVE_DIR}',\n",
    "    f'experiment_name={EXPERIMENT}',\n",
    "    f'job_name=planner_tutorial',\n",
    "    'experiment=${experiment_name}/${job_name}/${experiment_time}',\n",
    "    'worker=sequential',\n",
    "    f'ego_controller={EGO_CONTROLLER}',\n",
    "    f'observation={OBSERVATION}',\n",
    "    f'hydra.searchpath=[{simulation_hydra_paths.common_dir}, {simulation_hydra_paths.experiment_dir}]',\n",
    "    'output_dir=${group}/${experiment}',\n",
    "    *DATASET_PARAMS,\n",
    "])"
   ]
  },
  {
   "cell_type": "code",
   "execution_count": 21,
   "id": "68a8d451",
   "metadata": {},
   "outputs": [
    {
     "name": "stdout",
     "output_type": "stream",
     "text": [
      "/hdd/vladislav/nuplan-results\n"
     ]
    }
   ],
   "source": [
    "print(SAVE_DIR)"
   ]
  },
  {
   "cell_type": "code",
   "execution_count": 22,
   "id": "e686df8d",
   "metadata": {},
   "outputs": [
    {
     "ename": "ConfigAttributeError",
     "evalue": "Key 'main_callback' is not in struct\n    full_key: main_callback\n    object_type=dict",
     "output_type": "error",
     "traceback": [
      "\u001b[0;31m---------------------------------------------------------------------------\u001b[0m",
      "\u001b[0;31mConfigAttributeError\u001b[0m                      Traceback (most recent call last)",
      "Cell \u001b[0;32mIn[22], line 1\u001b[0m\n\u001b[0;32m----> 1\u001b[0m \u001b[38;5;28mprint\u001b[39m(\u001b[43mcfg\u001b[49m\u001b[38;5;241;43m.\u001b[39;49m\u001b[43mmain_callback\u001b[49m\u001b[38;5;241m.\u001b[39mmetric_file_callback\u001b[38;5;241m.\u001b[39mmetric_file_output_path)\n",
      "File \u001b[0;32m~/anaconda3/envs/nuplan/lib/python3.9/site-packages/omegaconf/dictconfig.py:357\u001b[0m, in \u001b[0;36mDictConfig.__getattr__\u001b[0;34m(self, key)\u001b[0m\n\u001b[1;32m    353\u001b[0m     \u001b[38;5;28mself\u001b[39m\u001b[38;5;241m.\u001b[39m_format_and_raise(\n\u001b[1;32m    354\u001b[0m         key\u001b[38;5;241m=\u001b[39mkey, value\u001b[38;5;241m=\u001b[39m\u001b[38;5;28;01mNone\u001b[39;00m, cause\u001b[38;5;241m=\u001b[39me, type_override\u001b[38;5;241m=\u001b[39mConfigAttributeError\n\u001b[1;32m    355\u001b[0m     )\n\u001b[1;32m    356\u001b[0m \u001b[38;5;28;01mexcept\u001b[39;00m \u001b[38;5;167;01mException\u001b[39;00m \u001b[38;5;28;01mas\u001b[39;00m e:\n\u001b[0;32m--> 357\u001b[0m     \u001b[38;5;28;43mself\u001b[39;49m\u001b[38;5;241;43m.\u001b[39;49m\u001b[43m_format_and_raise\u001b[49m\u001b[43m(\u001b[49m\u001b[43mkey\u001b[49m\u001b[38;5;241;43m=\u001b[39;49m\u001b[43mkey\u001b[49m\u001b[43m,\u001b[49m\u001b[43m \u001b[49m\u001b[43mvalue\u001b[49m\u001b[38;5;241;43m=\u001b[39;49m\u001b[38;5;28;43;01mNone\u001b[39;49;00m\u001b[43m,\u001b[49m\u001b[43m \u001b[49m\u001b[43mcause\u001b[49m\u001b[38;5;241;43m=\u001b[39;49m\u001b[43me\u001b[49m\u001b[43m)\u001b[49m\n",
      "File \u001b[0;32m~/anaconda3/envs/nuplan/lib/python3.9/site-packages/omegaconf/base.py:190\u001b[0m, in \u001b[0;36mNode._format_and_raise\u001b[0;34m(self, key, value, cause, type_override)\u001b[0m\n\u001b[1;32m    187\u001b[0m \u001b[38;5;28;01mdef\u001b[39;00m \u001b[38;5;21m_format_and_raise\u001b[39m(\n\u001b[1;32m    188\u001b[0m     \u001b[38;5;28mself\u001b[39m, key: Any, value: Any, cause: \u001b[38;5;167;01mException\u001b[39;00m, type_override: Any \u001b[38;5;241m=\u001b[39m \u001b[38;5;28;01mNone\u001b[39;00m\n\u001b[1;32m    189\u001b[0m ) \u001b[38;5;241m-\u001b[39m\u001b[38;5;241m>\u001b[39m \u001b[38;5;28;01mNone\u001b[39;00m:\n\u001b[0;32m--> 190\u001b[0m     \u001b[43mformat_and_raise\u001b[49m\u001b[43m(\u001b[49m\n\u001b[1;32m    191\u001b[0m \u001b[43m        \u001b[49m\u001b[43mnode\u001b[49m\u001b[38;5;241;43m=\u001b[39;49m\u001b[38;5;28;43mself\u001b[39;49m\u001b[43m,\u001b[49m\n\u001b[1;32m    192\u001b[0m \u001b[43m        \u001b[49m\u001b[43mkey\u001b[49m\u001b[38;5;241;43m=\u001b[39;49m\u001b[43mkey\u001b[49m\u001b[43m,\u001b[49m\n\u001b[1;32m    193\u001b[0m \u001b[43m        \u001b[49m\u001b[43mvalue\u001b[49m\u001b[38;5;241;43m=\u001b[39;49m\u001b[43mvalue\u001b[49m\u001b[43m,\u001b[49m\n\u001b[1;32m    194\u001b[0m \u001b[43m        \u001b[49m\u001b[43mmsg\u001b[49m\u001b[38;5;241;43m=\u001b[39;49m\u001b[38;5;28;43mstr\u001b[39;49m\u001b[43m(\u001b[49m\u001b[43mcause\u001b[49m\u001b[43m)\u001b[49m\u001b[43m,\u001b[49m\n\u001b[1;32m    195\u001b[0m \u001b[43m        \u001b[49m\u001b[43mcause\u001b[49m\u001b[38;5;241;43m=\u001b[39;49m\u001b[43mcause\u001b[49m\u001b[43m,\u001b[49m\n\u001b[1;32m    196\u001b[0m \u001b[43m        \u001b[49m\u001b[43mtype_override\u001b[49m\u001b[38;5;241;43m=\u001b[39;49m\u001b[43mtype_override\u001b[49m\u001b[43m,\u001b[49m\n\u001b[1;32m    197\u001b[0m \u001b[43m    \u001b[49m\u001b[43m)\u001b[49m\n\u001b[1;32m    198\u001b[0m     \u001b[38;5;28;01massert\u001b[39;00m \u001b[38;5;28;01mFalse\u001b[39;00m\n",
      "File \u001b[0;32m~/anaconda3/envs/nuplan/lib/python3.9/site-packages/omegaconf/_utils.py:741\u001b[0m, in \u001b[0;36mformat_and_raise\u001b[0;34m(node, key, value, msg, cause, type_override)\u001b[0m\n\u001b[1;32m    739\u001b[0m         ex \u001b[38;5;241m=\u001b[39m type_override(\u001b[38;5;28mstr\u001b[39m(cause))\n\u001b[1;32m    740\u001b[0m         ex\u001b[38;5;241m.\u001b[39m\u001b[38;5;18m__dict__\u001b[39m \u001b[38;5;241m=\u001b[39m copy\u001b[38;5;241m.\u001b[39mdeepcopy(cause\u001b[38;5;241m.\u001b[39m\u001b[38;5;18m__dict__\u001b[39m)\n\u001b[0;32m--> 741\u001b[0m     \u001b[43m_raise\u001b[49m\u001b[43m(\u001b[49m\u001b[43mex\u001b[49m\u001b[43m,\u001b[49m\u001b[43m \u001b[49m\u001b[43mcause\u001b[49m\u001b[43m)\u001b[49m\n\u001b[1;32m    743\u001b[0m object_type: Optional[Type[Any]]\n\u001b[1;32m    744\u001b[0m object_type_str: Optional[\u001b[38;5;28mstr\u001b[39m] \u001b[38;5;241m=\u001b[39m \u001b[38;5;28;01mNone\u001b[39;00m\n",
      "File \u001b[0;32m~/anaconda3/envs/nuplan/lib/python3.9/site-packages/omegaconf/_utils.py:719\u001b[0m, in \u001b[0;36m_raise\u001b[0;34m(ex, cause)\u001b[0m\n\u001b[1;32m    717\u001b[0m \u001b[38;5;28;01melse\u001b[39;00m:\n\u001b[1;32m    718\u001b[0m     ex\u001b[38;5;241m.\u001b[39m__cause__ \u001b[38;5;241m=\u001b[39m \u001b[38;5;28;01mNone\u001b[39;00m\n\u001b[0;32m--> 719\u001b[0m \u001b[38;5;28;01mraise\u001b[39;00m ex\u001b[38;5;241m.\u001b[39mwith_traceback(sys\u001b[38;5;241m.\u001b[39mexc_info()[\u001b[38;5;241m2\u001b[39m])\n",
      "File \u001b[0;32m~/anaconda3/envs/nuplan/lib/python3.9/site-packages/omegaconf/dictconfig.py:351\u001b[0m, in \u001b[0;36mDictConfig.__getattr__\u001b[0;34m(self, key)\u001b[0m\n\u001b[1;32m    348\u001b[0m     \u001b[38;5;28;01mraise\u001b[39;00m \u001b[38;5;167;01mAttributeError\u001b[39;00m()\n\u001b[1;32m    350\u001b[0m \u001b[38;5;28;01mtry\u001b[39;00m:\n\u001b[0;32m--> 351\u001b[0m     \u001b[38;5;28;01mreturn\u001b[39;00m \u001b[38;5;28;43mself\u001b[39;49m\u001b[38;5;241;43m.\u001b[39;49m\u001b[43m_get_impl\u001b[49m\u001b[43m(\u001b[49m\u001b[43mkey\u001b[49m\u001b[38;5;241;43m=\u001b[39;49m\u001b[43mkey\u001b[49m\u001b[43m,\u001b[49m\u001b[43m \u001b[49m\u001b[43mdefault_value\u001b[49m\u001b[38;5;241;43m=\u001b[39;49m\u001b[43m_DEFAULT_MARKER_\u001b[49m\u001b[43m)\u001b[49m\n\u001b[1;32m    352\u001b[0m \u001b[38;5;28;01mexcept\u001b[39;00m ConfigKeyError \u001b[38;5;28;01mas\u001b[39;00m e:\n\u001b[1;32m    353\u001b[0m     \u001b[38;5;28mself\u001b[39m\u001b[38;5;241m.\u001b[39m_format_and_raise(\n\u001b[1;32m    354\u001b[0m         key\u001b[38;5;241m=\u001b[39mkey, value\u001b[38;5;241m=\u001b[39m\u001b[38;5;28;01mNone\u001b[39;00m, cause\u001b[38;5;241m=\u001b[39me, type_override\u001b[38;5;241m=\u001b[39mConfigAttributeError\n\u001b[1;32m    355\u001b[0m     )\n",
      "File \u001b[0;32m~/anaconda3/envs/nuplan/lib/python3.9/site-packages/omegaconf/dictconfig.py:438\u001b[0m, in \u001b[0;36mDictConfig._get_impl\u001b[0;34m(self, key, default_value)\u001b[0m\n\u001b[1;32m    436\u001b[0m \u001b[38;5;28;01mdef\u001b[39;00m \u001b[38;5;21m_get_impl\u001b[39m(\u001b[38;5;28mself\u001b[39m, key: DictKeyType, default_value: Any) \u001b[38;5;241m-\u001b[39m\u001b[38;5;241m>\u001b[39m Any:\n\u001b[1;32m    437\u001b[0m     \u001b[38;5;28;01mtry\u001b[39;00m:\n\u001b[0;32m--> 438\u001b[0m         node \u001b[38;5;241m=\u001b[39m \u001b[38;5;28;43mself\u001b[39;49m\u001b[38;5;241;43m.\u001b[39;49m\u001b[43m_get_node\u001b[49m\u001b[43m(\u001b[49m\u001b[43mkey\u001b[49m\u001b[38;5;241;43m=\u001b[39;49m\u001b[43mkey\u001b[49m\u001b[43m,\u001b[49m\u001b[43m \u001b[49m\u001b[43mthrow_on_missing_key\u001b[49m\u001b[38;5;241;43m=\u001b[39;49m\u001b[38;5;28;43;01mTrue\u001b[39;49;00m\u001b[43m)\u001b[49m\n\u001b[1;32m    439\u001b[0m     \u001b[38;5;28;01mexcept\u001b[39;00m (ConfigAttributeError, ConfigKeyError):\n\u001b[1;32m    440\u001b[0m         \u001b[38;5;28;01mif\u001b[39;00m default_value \u001b[38;5;129;01mis\u001b[39;00m \u001b[38;5;129;01mnot\u001b[39;00m _DEFAULT_MARKER_:\n",
      "File \u001b[0;32m~/anaconda3/envs/nuplan/lib/python3.9/site-packages/omegaconf/dictconfig.py:465\u001b[0m, in \u001b[0;36mDictConfig._get_node\u001b[0;34m(self, key, validate_access, throw_on_missing_value, throw_on_missing_key)\u001b[0m\n\u001b[1;32m    462\u001b[0m         \u001b[38;5;28;01mreturn\u001b[39;00m \u001b[38;5;28;01mNone\u001b[39;00m\n\u001b[1;32m    464\u001b[0m \u001b[38;5;28;01mif\u001b[39;00m validate_access:\n\u001b[0;32m--> 465\u001b[0m     \u001b[38;5;28;43mself\u001b[39;49m\u001b[38;5;241;43m.\u001b[39;49m\u001b[43m_validate_get\u001b[49m\u001b[43m(\u001b[49m\u001b[43mkey\u001b[49m\u001b[43m)\u001b[49m\n\u001b[1;32m    467\u001b[0m value: Optional[Node] \u001b[38;5;241m=\u001b[39m \u001b[38;5;28mself\u001b[39m\u001b[38;5;241m.\u001b[39m\u001b[38;5;18m__dict__\u001b[39m[\u001b[38;5;124m\"\u001b[39m\u001b[38;5;124m_content\u001b[39m\u001b[38;5;124m\"\u001b[39m]\u001b[38;5;241m.\u001b[39mget(key)\n\u001b[1;32m    468\u001b[0m \u001b[38;5;28;01mif\u001b[39;00m value \u001b[38;5;129;01mis\u001b[39;00m \u001b[38;5;28;01mNone\u001b[39;00m:\n",
      "File \u001b[0;32m~/anaconda3/envs/nuplan/lib/python3.9/site-packages/omegaconf/dictconfig.py:166\u001b[0m, in \u001b[0;36mDictConfig._validate_get\u001b[0;34m(self, key, value)\u001b[0m\n\u001b[1;32m    164\u001b[0m \u001b[38;5;28;01melse\u001b[39;00m:\n\u001b[1;32m    165\u001b[0m     msg \u001b[38;5;241m=\u001b[39m \u001b[38;5;124mf\u001b[39m\u001b[38;5;124m\"\u001b[39m\u001b[38;5;124mKey \u001b[39m\u001b[38;5;124m'\u001b[39m\u001b[38;5;132;01m{\u001b[39;00mkey\u001b[38;5;132;01m}\u001b[39;00m\u001b[38;5;124m'\u001b[39m\u001b[38;5;124m is not in struct\u001b[39m\u001b[38;5;124m\"\u001b[39m\n\u001b[0;32m--> 166\u001b[0m \u001b[38;5;28;43mself\u001b[39;49m\u001b[38;5;241;43m.\u001b[39;49m\u001b[43m_format_and_raise\u001b[49m\u001b[43m(\u001b[49m\n\u001b[1;32m    167\u001b[0m \u001b[43m    \u001b[49m\u001b[43mkey\u001b[49m\u001b[38;5;241;43m=\u001b[39;49m\u001b[43mkey\u001b[49m\u001b[43m,\u001b[49m\u001b[43m \u001b[49m\u001b[43mvalue\u001b[49m\u001b[38;5;241;43m=\u001b[39;49m\u001b[43mvalue\u001b[49m\u001b[43m,\u001b[49m\u001b[43m \u001b[49m\u001b[43mcause\u001b[49m\u001b[38;5;241;43m=\u001b[39;49m\u001b[43mConfigAttributeError\u001b[49m\u001b[43m(\u001b[49m\u001b[43mmsg\u001b[49m\u001b[43m)\u001b[49m\n\u001b[1;32m    168\u001b[0m \u001b[43m\u001b[49m\u001b[43m)\u001b[49m\n",
      "File \u001b[0;32m~/anaconda3/envs/nuplan/lib/python3.9/site-packages/omegaconf/base.py:190\u001b[0m, in \u001b[0;36mNode._format_and_raise\u001b[0;34m(self, key, value, cause, type_override)\u001b[0m\n\u001b[1;32m    187\u001b[0m \u001b[38;5;28;01mdef\u001b[39;00m \u001b[38;5;21m_format_and_raise\u001b[39m(\n\u001b[1;32m    188\u001b[0m     \u001b[38;5;28mself\u001b[39m, key: Any, value: Any, cause: \u001b[38;5;167;01mException\u001b[39;00m, type_override: Any \u001b[38;5;241m=\u001b[39m \u001b[38;5;28;01mNone\u001b[39;00m\n\u001b[1;32m    189\u001b[0m ) \u001b[38;5;241m-\u001b[39m\u001b[38;5;241m>\u001b[39m \u001b[38;5;28;01mNone\u001b[39;00m:\n\u001b[0;32m--> 190\u001b[0m     \u001b[43mformat_and_raise\u001b[49m\u001b[43m(\u001b[49m\n\u001b[1;32m    191\u001b[0m \u001b[43m        \u001b[49m\u001b[43mnode\u001b[49m\u001b[38;5;241;43m=\u001b[39;49m\u001b[38;5;28;43mself\u001b[39;49m\u001b[43m,\u001b[49m\n\u001b[1;32m    192\u001b[0m \u001b[43m        \u001b[49m\u001b[43mkey\u001b[49m\u001b[38;5;241;43m=\u001b[39;49m\u001b[43mkey\u001b[49m\u001b[43m,\u001b[49m\n\u001b[1;32m    193\u001b[0m \u001b[43m        \u001b[49m\u001b[43mvalue\u001b[49m\u001b[38;5;241;43m=\u001b[39;49m\u001b[43mvalue\u001b[49m\u001b[43m,\u001b[49m\n\u001b[1;32m    194\u001b[0m \u001b[43m        \u001b[49m\u001b[43mmsg\u001b[49m\u001b[38;5;241;43m=\u001b[39;49m\u001b[38;5;28;43mstr\u001b[39;49m\u001b[43m(\u001b[49m\u001b[43mcause\u001b[49m\u001b[43m)\u001b[49m\u001b[43m,\u001b[49m\n\u001b[1;32m    195\u001b[0m \u001b[43m        \u001b[49m\u001b[43mcause\u001b[49m\u001b[38;5;241;43m=\u001b[39;49m\u001b[43mcause\u001b[49m\u001b[43m,\u001b[49m\n\u001b[1;32m    196\u001b[0m \u001b[43m        \u001b[49m\u001b[43mtype_override\u001b[49m\u001b[38;5;241;43m=\u001b[39;49m\u001b[43mtype_override\u001b[49m\u001b[43m,\u001b[49m\n\u001b[1;32m    197\u001b[0m \u001b[43m    \u001b[49m\u001b[43m)\u001b[49m\n\u001b[1;32m    198\u001b[0m     \u001b[38;5;28;01massert\u001b[39;00m \u001b[38;5;28;01mFalse\u001b[39;00m\n",
      "File \u001b[0;32m~/anaconda3/envs/nuplan/lib/python3.9/site-packages/omegaconf/_utils.py:821\u001b[0m, in \u001b[0;36mformat_and_raise\u001b[0;34m(node, key, value, msg, cause, type_override)\u001b[0m\n\u001b[1;32m    818\u001b[0m     ex\u001b[38;5;241m.\u001b[39mref_type \u001b[38;5;241m=\u001b[39m ref_type\n\u001b[1;32m    819\u001b[0m     ex\u001b[38;5;241m.\u001b[39mref_type_str \u001b[38;5;241m=\u001b[39m ref_type_str\n\u001b[0;32m--> 821\u001b[0m \u001b[43m_raise\u001b[49m\u001b[43m(\u001b[49m\u001b[43mex\u001b[49m\u001b[43m,\u001b[49m\u001b[43m \u001b[49m\u001b[43mcause\u001b[49m\u001b[43m)\u001b[49m\n",
      "File \u001b[0;32m~/anaconda3/envs/nuplan/lib/python3.9/site-packages/omegaconf/_utils.py:719\u001b[0m, in \u001b[0;36m_raise\u001b[0;34m(ex, cause)\u001b[0m\n\u001b[1;32m    717\u001b[0m \u001b[38;5;28;01melse\u001b[39;00m:\n\u001b[1;32m    718\u001b[0m     ex\u001b[38;5;241m.\u001b[39m__cause__ \u001b[38;5;241m=\u001b[39m \u001b[38;5;28;01mNone\u001b[39;00m\n\u001b[0;32m--> 719\u001b[0m \u001b[38;5;28;01mraise\u001b[39;00m ex\u001b[38;5;241m.\u001b[39mwith_traceback(sys\u001b[38;5;241m.\u001b[39mexc_info()[\u001b[38;5;241m2\u001b[39m])\n",
      "\u001b[0;31mConfigAttributeError\u001b[0m: Key 'main_callback' is not in struct\n    full_key: main_callback\n    object_type=dict"
     ]
    }
   ],
   "source": [
    "print(cfg.main_callback.metric_file_callback.metric_file_output_path)"
   ]
  },
  {
   "cell_type": "code",
   "execution_count": 20,
   "id": "1bc46347",
   "metadata": {},
   "outputs": [
    {
     "name": "stdout",
     "output_type": "stream",
     "text": [
      "The tensorboard extension is already loaded. To reload it, use:\n",
      "  %reload_ext tensorboard\n"
     ]
    },
    {
     "data": {
      "text/plain": [
       "Reusing TensorBoard on port 6006 (pid 59428), started 0:45:39 ago. (Use '!kill 59428' to kill it.)"
      ]
     },
     "metadata": {},
     "output_type": "display_data"
    },
    {
     "data": {
      "text/html": [
       "\n",
       "      <iframe id=\"tensorboard-frame-629f6fbed82c07cd\" width=\"100%\" height=\"800\" frameborder=\"0\">\n",
       "      </iframe>\n",
       "      <script>\n",
       "        (function() {\n",
       "          const frame = document.getElementById(\"tensorboard-frame-629f6fbed82c07cd\");\n",
       "          const url = new URL(\"/\", window.location);\n",
       "          const port = 6006;\n",
       "          if (port) {\n",
       "            url.port = port;\n",
       "          }\n",
       "          frame.src = url;\n",
       "        })();\n",
       "      </script>\n",
       "    "
      ],
      "text/plain": [
       "<IPython.core.display.HTML object>"
      ]
     },
     "metadata": {},
     "output_type": "display_data"
    }
   ],
   "source": [
    "%load_ext tensorboard\n",
    "%tensorboard --logdir {SAVE_DIR}"
   ]
  },
  {
   "cell_type": "markdown",
   "id": "88231b74",
   "metadata": {
    "pycharm": {
     "name": "#%% md\n"
    }
   },
   "source": [
    "## Launch simulation (within the notebook)"
   ]
  },
  {
   "cell_type": "code",
   "execution_count": 16,
   "id": "161cc166",
   "metadata": {
    "pycharm": {
     "name": "#%%\n"
    }
   },
   "outputs": [
    {
     "name": "stderr",
     "output_type": "stream",
     "text": [
      "Global seed set to 0\n",
      "INFO:nuplan.planning.script.builders.main_callback_builder:Building MultiMainCallback...\n",
      "INFO:nuplan.planning.script.builders.main_callback_builder:Building MultiMainCallback: 4...DONE!\n"
     ]
    },
    {
     "name": "stdout",
     "output_type": "stream",
     "text": [
      "2023-03-26 01:05:32,406 INFO {/hdd/vladislav/nuplan-devkit/nuplan/planning/script/builders/worker_pool_builder.py:19}  Building WorkerPool...\n",
      "2023-03-26 01:05:32,408 INFO {/hdd/vladislav/nuplan-devkit/nuplan/planning/utils/multithreading/worker_pool.py:101}  Worker: Sequential\n",
      "2023-03-26 01:05:32,409 INFO {/hdd/vladislav/nuplan-devkit/nuplan/planning/utils/multithreading/worker_pool.py:102}  Number of nodes: 1\n",
      "Number of CPUs per node: 1\n",
      "Number of GPUs per node: 0\n",
      "Number of threads across all nodes: 1\n",
      "2023-03-26 01:05:32,409 INFO {/hdd/vladislav/nuplan-devkit/nuplan/planning/script/builders/worker_pool_builder.py:27}  Building WorkerPool...DONE!\n",
      "2023-03-26 01:05:32,409 INFO {/hdd/vladislav/nuplan-devkit/nuplan/planning/script/builders/folder_builder.py:29}  Building experiment folders...\n",
      "2023-03-26 01:05:32,409 INFO {/hdd/vladislav/nuplan-devkit/nuplan/planning/script/builders/folder_builder.py:32}  \n",
      "\n",
      "\tFolder where all results are stored: /hdd/vladislav/nuplan-results/idm_planner_experiment/planner_tutorial/2023.03.26.01.05.27\n",
      "\n",
      "2023-03-26 01:05:32,409 INFO {/hdd/vladislav/nuplan-devkit/nuplan/planning/script/builders/folder_builder.py:63}  Building experiment folders...DONE!\n",
      "2023-03-26 01:05:32,410 INFO {/hdd/vladislav/nuplan-devkit/nuplan/planning/script/builders/scenario_building_builder.py:18}  Building AbstractScenarioBuilder...\n",
      "2023-03-26 01:05:32,422 INFO {/hdd/vladislav/nuplan-devkit/nuplan/planning/script/builders/scenario_building_builder.py:21}  Building AbstractScenarioBuilder...DONE!\n",
      "2023-03-26 01:05:32,423 INFO {/hdd/vladislav/nuplan-devkit/nuplan/planning/script/builders/simulation_callback_builder.py:52}  Building AbstractCallback...\n",
      "2023-03-26 01:05:32,423 INFO {/hdd/vladislav/nuplan-devkit/nuplan/planning/script/builders/simulation_callback_builder.py:68}  Building AbstractCallback: 0...DONE!\n",
      "2023-03-26 01:05:32,423 INFO {/hdd/vladislav/nuplan-devkit/nuplan/planning/script/builders/simulation_builder.py:46}  Building simulations...\n",
      "2023-03-26 01:05:32,423 INFO {/hdd/vladislav/nuplan-devkit/nuplan/planning/script/builders/scenario_filter_builder.py:35}  Building ScenarioFilter...\n",
      "2023-03-26 01:05:32,424 INFO {/hdd/vladislav/nuplan-devkit/nuplan/planning/script/builders/scenario_filter_builder.py:44}  Building ScenarioFilter...DONE!\n",
      "2023-03-26 01:05:32,424 INFO {/hdd/vladislav/nuplan-devkit/nuplan/planning/script/builders/simulation_builder.py:53}  Extracting scenarios...\n",
      "2023-03-26 01:05:37,234 INFO {/hdd/vladislav/nuplan-devkit/nuplan/planning/script/builders/simulation_builder.py:55}  Extracting scenarios 140...DONE!\n",
      "2023-03-26 01:05:37,235 INFO {/hdd/vladislav/nuplan-devkit/nuplan/planning/script/builders/simulation_builder.py:59}  Building metric engines...\n",
      "2023-03-26 01:05:37,290 INFO {/hdd/vladislav/nuplan-devkit/nuplan/planning/script/builders/simulation_builder.py:61}  Building metric engines...DONE\n",
      "2023-03-26 01:05:37,290 INFO {/hdd/vladislav/nuplan-devkit/nuplan/planning/script/builders/simulation_builder.py:65}  Building simulations from 140 scenarios...\n",
      "2023-03-26 01:05:39,949 INFO {/hdd/vladislav/nuplan-devkit/nuplan/planning/script/builders/simulation_builder.py:121}  Building simulations...DONE!\n",
      "2023-03-26 01:05:39,949 INFO {/hdd/vladislav/nuplan-devkit/nuplan/planning/script/run_simulation.py:80}  Running simulation...\n",
      "2023-03-26 01:05:39,949 INFO {/hdd/vladislav/nuplan-devkit/nuplan/planning/script/utils.py:135}  Executing runners...\n",
      "2023-03-26 01:05:39,950 INFO {/hdd/vladislav/nuplan-devkit/nuplan/planning/simulation/runner/executor.py:82}  Starting 140 simulations using Sequential!\n"
     ]
    },
    {
     "name": "stderr",
     "output_type": "stream",
     "text": [
      "Converting detections to smart agents:   0%|                                      | 0/24 [00:00<?, ?it/s]/hdd/vladislav/nuplan-devkit/nuplan/common/maps/nuplan_map/utils.py:413: RuntimeWarning: invalid value encountered in cast\n",
      "  return elements.iloc[np.where(elements[column_label].to_numpy().astype(int) == int(desired_value))]\n",
      "Converting detections to smart agents:   4%|█▎                            | 1/24 [00:01<00:29,  1.29s/it]/hdd/vladislav/nuplan-devkit/nuplan/common/maps/nuplan_map/utils.py:413: RuntimeWarning: invalid value encountered in cast\n",
      "  return elements.iloc[np.where(elements[column_label].to_numpy().astype(int) == int(desired_value))]\n",
      "/hdd/vladislav/nuplan-devkit/nuplan/common/maps/nuplan_map/utils.py:413: RuntimeWarning: invalid value encountered in cast\n",
      "  return elements.iloc[np.where(elements[column_label].to_numpy().astype(int) == int(desired_value))]\n",
      "Converting detections to smart agents:   0%|                                       | 0/1 [00:00<?, ?it/s]/hdd/vladislav/nuplan-devkit/nuplan/common/maps/nuplan_map/utils.py:413: RuntimeWarning: invalid value encountered in cast\n",
      "  return elements.iloc[np.where(elements[column_label].to_numpy().astype(int) == int(desired_value))]\n",
      "/hdd/vladislav/nuplan-devkit/nuplan/common/maps/nuplan_map/utils.py:413: RuntimeWarning: invalid value encountered in cast\n",
      "  return elements.iloc[np.where(elements[column_label].to_numpy().astype(int) == int(desired_value))]\n"
     ]
    },
    {
     "name": "stdout",
     "output_type": "stream",
     "text": [
      "2023-03-26 01:07:01,563 WARNING {/hdd/vladislav/nuplan-devkit/nuplan/planning/simulation/planner/idm_planner.py:153}  IDMPlanner could not find valid path to the target roadblock. Using longest route found instead\n"
     ]
    },
    {
     "name": "stderr",
     "output_type": "stream",
     "text": [
      "                                                                                                         \r"
     ]
    },
    {
     "name": "stdout",
     "output_type": "stream",
     "text": [
      "2023-03-26 01:07:24,778 WARNING {/hdd/vladislav/nuplan-devkit/nuplan/planning/simulation/planner/idm_planner.py:153}  IDMPlanner could not find valid path to the target roadblock. Using longest route found instead\n"
     ]
    },
    {
     "name": "stderr",
     "output_type": "stream",
     "text": [
      "Converting detections to smart agents:   0%|                                       | 0/4 [00:00<?, ?it/s]/hdd/vladislav/nuplan-devkit/nuplan/common/maps/nuplan_map/utils.py:413: RuntimeWarning: invalid value encountered in cast\n",
      "  return elements.iloc[np.where(elements[column_label].to_numpy().astype(int) == int(desired_value))]\n",
      "                                                                                                         \r"
     ]
    },
    {
     "name": "stdout",
     "output_type": "stream",
     "text": [
      "2023-03-26 01:07:48,521 WARNING {/hdd/vladislav/nuplan-devkit/nuplan/planning/simulation/planner/idm_planner.py:153}  IDMPlanner could not find valid path to the target roadblock. Using longest route found instead\n"
     ]
    },
    {
     "name": "stderr",
     "output_type": "stream",
     "text": [
      "Converting detections to smart agents:   0%|                                      | 0/12 [00:00<?, ?it/s]/hdd/vladislav/nuplan-devkit/nuplan/common/maps/nuplan_map/utils.py:413: RuntimeWarning: invalid value encountered in cast\n",
      "  return elements.iloc[np.where(elements[column_label].to_numpy().astype(int) == int(desired_value))]\n",
      "/hdd/vladislav/nuplan-devkit/nuplan/common/maps/nuplan_map/utils.py:413: RuntimeWarning: invalid value encountered in cast\n",
      "  return elements.iloc[np.where(elements[column_label].to_numpy().astype(int) == int(desired_value))]\n",
      "                                                                                                         \r"
     ]
    },
    {
     "name": "stdout",
     "output_type": "stream",
     "text": [
      "2023-03-26 01:08:21,900 WARNING {/hdd/vladislav/nuplan-devkit/nuplan/planning/simulation/planner/idm_planner.py:153}  IDMPlanner could not find valid path to the target roadblock. Using longest route found instead\n"
     ]
    },
    {
     "name": "stderr",
     "output_type": "stream",
     "text": [
      "Converting detections to smart agents:   0%|                                      | 0/27 [00:00<?, ?it/s]/hdd/vladislav/nuplan-devkit/nuplan/common/maps/nuplan_map/utils.py:413: RuntimeWarning: invalid value encountered in cast\n",
      "  return elements.iloc[np.where(elements[column_label].to_numpy().astype(int) == int(desired_value))]\n",
      "Converting detections to smart agents:   4%|█                             | 1/27 [00:00<00:20,  1.27it/s]/hdd/vladislav/nuplan-devkit/nuplan/common/maps/nuplan_map/utils.py:413: RuntimeWarning: invalid value encountered in cast\n",
      "  return elements.iloc[np.where(elements[column_label].to_numpy().astype(int) == int(desired_value))]\n",
      "/hdd/vladislav/nuplan-devkit/nuplan/common/maps/nuplan_map/utils.py:413: RuntimeWarning: invalid value encountered in cast\n",
      "  return elements.iloc[np.where(elements[column_label].to_numpy().astype(int) == int(desired_value))]\n",
      "                                                                                                         \r"
     ]
    },
    {
     "name": "stdout",
     "output_type": "stream",
     "text": [
      "2023-03-26 01:09:31,547 WARNING {/hdd/vladislav/nuplan-devkit/nuplan/planning/simulation/planner/idm_planner.py:153}  IDMPlanner could not find valid path to the target roadblock. Using longest route found instead\n"
     ]
    },
    {
     "name": "stderr",
     "output_type": "stream",
     "text": [
      "                                                                                                         \r"
     ]
    },
    {
     "name": "stdout",
     "output_type": "stream",
     "text": [
      "2023-03-26 01:10:06,994 WARNING {/hdd/vladislav/nuplan-devkit/nuplan/planning/simulation/planner/idm_planner.py:153}  IDMPlanner could not find valid path to the target roadblock. Using longest route found instead\n"
     ]
    },
    {
     "name": "stderr",
     "output_type": "stream",
     "text": [
      "                                                                                                         \r"
     ]
    },
    {
     "name": "stdout",
     "output_type": "stream",
     "text": [
      "2023-03-26 01:11:12,471 WARNING {/hdd/vladislav/nuplan-devkit/nuplan/planning/simulation/planner/idm_planner.py:153}  IDMPlanner could not find valid path to the target roadblock. Using longest route found instead\n"
     ]
    },
    {
     "name": "stderr",
     "output_type": "stream",
     "text": [
      "                                                                                                         \r"
     ]
    },
    {
     "name": "stdout",
     "output_type": "stream",
     "text": [
      "2023-03-26 01:12:41,267 WARNING {/hdd/vladislav/nuplan-devkit/nuplan/planning/simulation/planner/idm_planner.py:153}  IDMPlanner could not find valid path to the target roadblock. Using longest route found instead\n"
     ]
    },
    {
     "name": "stderr",
     "output_type": "stream",
     "text": [
      "                                                                                                         \r"
     ]
    },
    {
     "name": "stdout",
     "output_type": "stream",
     "text": [
      "2023-03-26 01:13:22,044 WARNING {/hdd/vladislav/nuplan-devkit/nuplan/planning/simulation/planner/idm_planner.py:153}  IDMPlanner could not find valid path to the target roadblock. Using longest route found instead\n"
     ]
    },
    {
     "name": "stderr",
     "output_type": "stream",
     "text": [
      "                                                                                                         \r"
     ]
    },
    {
     "name": "stdout",
     "output_type": "stream",
     "text": [
      "2023-03-26 01:16:45,104 WARNING {/hdd/vladislav/nuplan-devkit/nuplan/planning/simulation/planner/idm_planner.py:153}  IDMPlanner could not find valid path to the target roadblock. Using longest route found instead\n"
     ]
    },
    {
     "name": "stderr",
     "output_type": "stream",
     "text": [
      "                                                                                                         \r"
     ]
    },
    {
     "name": "stdout",
     "output_type": "stream",
     "text": [
      "2023-03-26 01:17:12,872 WARNING {/hdd/vladislav/nuplan-devkit/nuplan/planning/simulation/planner/idm_planner.py:153}  IDMPlanner could not find valid path to the target roadblock. Using longest route found instead\n"
     ]
    },
    {
     "name": "stderr",
     "output_type": "stream",
     "text": [
      "                                                                                                         \r"
     ]
    },
    {
     "name": "stdout",
     "output_type": "stream",
     "text": [
      "2023-03-26 01:17:21,640 WARNING {/hdd/vladislav/nuplan-devkit/nuplan/planning/simulation/planner/idm_planner.py:153}  IDMPlanner could not find valid path to the target roadblock. Using longest route found instead\n"
     ]
    },
    {
     "name": "stderr",
     "output_type": "stream",
     "text": [
      "                                                                                                         \r"
     ]
    },
    {
     "name": "stdout",
     "output_type": "stream",
     "text": [
      "2023-03-26 01:19:41,807 WARNING {/hdd/vladislav/nuplan-devkit/nuplan/planning/simulation/planner/idm_planner.py:153}  IDMPlanner could not find valid path to the target roadblock. Using longest route found instead\n"
     ]
    },
    {
     "name": "stderr",
     "output_type": "stream",
     "text": [
      "                                                                                                         \r"
     ]
    },
    {
     "name": "stdout",
     "output_type": "stream",
     "text": [
      "2023-03-26 01:21:15,315 WARNING {/hdd/vladislav/nuplan-devkit/nuplan/planning/simulation/planner/idm_planner.py:153}  IDMPlanner could not find valid path to the target roadblock. Using longest route found instead\n"
     ]
    },
    {
     "name": "stderr",
     "output_type": "stream",
     "text": [
      "                                                                                                         \r"
     ]
    },
    {
     "name": "stdout",
     "output_type": "stream",
     "text": [
      "2023-03-26 01:23:06,563 WARNING {/hdd/vladislav/nuplan-devkit/nuplan/planning/simulation/planner/idm_planner.py:153}  IDMPlanner could not find valid path to the target roadblock. Using longest route found instead\n"
     ]
    },
    {
     "name": "stderr",
     "output_type": "stream",
     "text": [
      "                                                                                                         \r"
     ]
    },
    {
     "name": "stdout",
     "output_type": "stream",
     "text": [
      "2023-03-26 01:23:43,279 WARNING {/hdd/vladislav/nuplan-devkit/nuplan/planning/simulation/planner/idm_planner.py:153}  IDMPlanner could not find valid path to the target roadblock. Using longest route found instead\n"
     ]
    },
    {
     "name": "stderr",
     "output_type": "stream",
     "text": [
      "                                                                                                         \r"
     ]
    },
    {
     "name": "stdout",
     "output_type": "stream",
     "text": [
      "2023-03-26 01:24:27,245 WARNING {/hdd/vladislav/nuplan-devkit/nuplan/planning/simulation/planner/idm_planner.py:153}  IDMPlanner could not find valid path to the target roadblock. Using longest route found instead\n"
     ]
    },
    {
     "name": "stderr",
     "output_type": "stream",
     "text": [
      "                                                                                                         \r"
     ]
    },
    {
     "name": "stdout",
     "output_type": "stream",
     "text": [
      "2023-03-26 01:25:24,958 WARNING {/hdd/vladislav/nuplan-devkit/nuplan/planning/simulation/planner/idm_planner.py:153}  IDMPlanner could not find valid path to the target roadblock. Using longest route found instead\n"
     ]
    },
    {
     "name": "stderr",
     "output_type": "stream",
     "text": [
      "                                                                                                         \r"
     ]
    },
    {
     "name": "stdout",
     "output_type": "stream",
     "text": [
      "2023-03-26 01:28:01,961 WARNING {/hdd/vladislav/nuplan-devkit/nuplan/planning/simulation/planner/idm_planner.py:153}  IDMPlanner could not find valid path to the target roadblock. Using longest route found instead\n"
     ]
    },
    {
     "name": "stderr",
     "output_type": "stream",
     "text": [
      "                                                                                                         \r"
     ]
    },
    {
     "name": "stdout",
     "output_type": "stream",
     "text": [
      "2023-03-26 01:29:06,039 WARNING {/hdd/vladislav/nuplan-devkit/nuplan/planning/simulation/planner/idm_planner.py:153}  IDMPlanner could not find valid path to the target roadblock. Using longest route found instead\n"
     ]
    },
    {
     "name": "stderr",
     "output_type": "stream",
     "text": [
      "                                                                                                         \r"
     ]
    },
    {
     "name": "stdout",
     "output_type": "stream",
     "text": [
      "2023-03-26 01:29:21,376 WARNING {/hdd/vladislav/nuplan-devkit/nuplan/planning/simulation/planner/idm_planner.py:153}  IDMPlanner could not find valid path to the target roadblock. Using longest route found instead\n"
     ]
    },
    {
     "name": "stderr",
     "output_type": "stream",
     "text": [
      "                                                                                                         \r"
     ]
    },
    {
     "name": "stdout",
     "output_type": "stream",
     "text": [
      "2023-03-26 01:30:15,771 WARNING {/hdd/vladislav/nuplan-devkit/nuplan/planning/simulation/planner/idm_planner.py:153}  IDMPlanner could not find valid path to the target roadblock. Using longest route found instead\n"
     ]
    },
    {
     "name": "stderr",
     "output_type": "stream",
     "text": [
      "                                                                                                         \r"
     ]
    },
    {
     "name": "stdout",
     "output_type": "stream",
     "text": [
      "2023-03-26 01:30:39,457 WARNING {/hdd/vladislav/nuplan-devkit/nuplan/planning/simulation/planner/idm_planner.py:153}  IDMPlanner could not find valid path to the target roadblock. Using longest route found instead\n"
     ]
    },
    {
     "name": "stderr",
     "output_type": "stream",
     "text": [
      "                                                                                                         \r"
     ]
    },
    {
     "name": "stdout",
     "output_type": "stream",
     "text": [
      "2023-03-26 01:31:10,726 WARNING {/hdd/vladislav/nuplan-devkit/nuplan/planning/simulation/planner/idm_planner.py:153}  IDMPlanner could not find valid path to the target roadblock. Using longest route found instead\n"
     ]
    },
    {
     "name": "stderr",
     "output_type": "stream",
     "text": [
      "                                                                                                         \r"
     ]
    },
    {
     "name": "stdout",
     "output_type": "stream",
     "text": [
      "2023-03-26 01:31:23,315 WARNING {/hdd/vladislav/nuplan-devkit/nuplan/planning/simulation/planner/idm_planner.py:153}  IDMPlanner could not find valid path to the target roadblock. Using longest route found instead\n"
     ]
    },
    {
     "name": "stderr",
     "output_type": "stream",
     "text": [
      "                                                                                                         \r"
     ]
    },
    {
     "name": "stdout",
     "output_type": "stream",
     "text": [
      "2023-03-26 01:32:43,611 WARNING {/hdd/vladislav/nuplan-devkit/nuplan/planning/simulation/planner/idm_planner.py:153}  IDMPlanner could not find valid path to the target roadblock. Using longest route found instead\n"
     ]
    },
    {
     "name": "stderr",
     "output_type": "stream",
     "text": [
      "                                                                                                         \r"
     ]
    },
    {
     "name": "stdout",
     "output_type": "stream",
     "text": [
      "2023-03-26 01:41:32,274 WARNING {/hdd/vladislav/nuplan-devkit/nuplan/planning/simulation/planner/idm_planner.py:153}  IDMPlanner could not find valid path to the target roadblock. Using longest route found instead\n"
     ]
    },
    {
     "name": "stderr",
     "output_type": "stream",
     "text": [
      "                                                                                                         \r"
     ]
    },
    {
     "name": "stdout",
     "output_type": "stream",
     "text": [
      "2023-03-26 01:43:33,707 WARNING {/hdd/vladislav/nuplan-devkit/nuplan/planning/simulation/planner/idm_planner.py:153}  IDMPlanner could not find valid path to the target roadblock. Using longest route found instead\n"
     ]
    },
    {
     "name": "stderr",
     "output_type": "stream",
     "text": [
      "                                                                                                         \r"
     ]
    },
    {
     "name": "stdout",
     "output_type": "stream",
     "text": [
      "2023-03-26 01:43:46,062 WARNING {/hdd/vladislav/nuplan-devkit/nuplan/planning/simulation/planner/idm_planner.py:153}  IDMPlanner could not find valid path to the target roadblock. Using longest route found instead\n"
     ]
    },
    {
     "name": "stderr",
     "output_type": "stream",
     "text": [
      "                                                                                                         \r"
     ]
    },
    {
     "name": "stdout",
     "output_type": "stream",
     "text": [
      "2023-03-26 01:44:10,888 WARNING {/hdd/vladislav/nuplan-devkit/nuplan/planning/simulation/planner/idm_planner.py:153}  IDMPlanner could not find valid path to the target roadblock. Using longest route found instead\n"
     ]
    },
    {
     "name": "stderr",
     "output_type": "stream",
     "text": [
      "                                                                                                         \r"
     ]
    },
    {
     "name": "stdout",
     "output_type": "stream",
     "text": [
      "2023-03-26 01:44:38,306 WARNING {/hdd/vladislav/nuplan-devkit/nuplan/planning/simulation/planner/idm_planner.py:153}  IDMPlanner could not find valid path to the target roadblock. Using longest route found instead\n"
     ]
    },
    {
     "name": "stderr",
     "output_type": "stream",
     "text": [
      "                                                                                                         \r"
     ]
    },
    {
     "name": "stdout",
     "output_type": "stream",
     "text": [
      "2023-03-26 01:44:56,897 WARNING {/hdd/vladislav/nuplan-devkit/nuplan/planning/simulation/planner/idm_planner.py:153}  IDMPlanner could not find valid path to the target roadblock. Using longest route found instead\n"
     ]
    },
    {
     "name": "stderr",
     "output_type": "stream",
     "text": [
      "                                                                                                         \r"
     ]
    },
    {
     "name": "stdout",
     "output_type": "stream",
     "text": [
      "2023-03-26 01:46:05,877 WARNING {/hdd/vladislav/nuplan-devkit/nuplan/planning/simulation/planner/idm_planner.py:153}  IDMPlanner could not find valid path to the target roadblock. Using longest route found instead\n"
     ]
    },
    {
     "name": "stderr",
     "output_type": "stream",
     "text": [
      "                                                                                                         \r"
     ]
    },
    {
     "name": "stdout",
     "output_type": "stream",
     "text": [
      "2023-03-26 01:47:05,086 INFO {/hdd/vladislav/nuplan-devkit/nuplan/planning/simulation/runner/executor.py:127}  Number of successful simulations: 140\n",
      "2023-03-26 01:47:05,087 INFO {/hdd/vladislav/nuplan-devkit/nuplan/planning/simulation/runner/executor.py:128}  Number of failed simulations: 0\n",
      "2023-03-26 01:47:05,087 INFO {/hdd/vladislav/nuplan-devkit/nuplan/planning/script/utils.py:144}  Finished executing runners!\n",
      "2023-03-26 01:47:05,136 INFO {/hdd/vladislav/nuplan-devkit/nuplan/planning/script/utils.py:71}  Saved runner reports to /hdd/vladislav/nuplan-results/idm_planner_experiment/planner_tutorial/2023.03.26.01.05.27/runner_report.parquet\n",
      "2023-03-26 01:47:05,136 INFO {/hdd/vladislav/nuplan-devkit/nuplan/planning/simulation/main_callback/time_callback.py:27}  Simulation duration: 00:41:32 [HH:MM:SS]\n",
      "2023-03-26 01:47:05,485 INFO {/hdd/vladislav/nuplan-devkit/nuplan/planning/simulation/main_callback/metric_file_callback.py:70}  Metric files integration: 00:00:00 [HH:MM:SS]\n",
      "2023-03-26 01:47:05,527 INFO {/hdd/vladislav/nuplan-devkit/nuplan/planning/simulation/main_callback/metric_aggregator_callback.py:50}  Running metric aggregator: weighted_average_metric_aggregator\n",
      "2023-03-26 01:47:05,553 INFO {/hdd/vladislav/nuplan-devkit/nuplan/planning/simulation/main_callback/metric_aggregator_callback.py:61}  Metric aggregator: 00:00:00 [HH:MM:SS]\n"
     ]
    },
    {
     "name": "stderr",
     "output_type": "stream",
     "text": [
      "Rendering histograms: 100%|████████████████████████████████████████████████| 4/4 [00:01<00:00,  3.48it/s]\n"
     ]
    },
    {
     "name": "stdout",
     "output_type": "stream",
     "text": [
      "2023-03-26 01:47:07,411 INFO {/hdd/vladislav/nuplan-devkit/nuplan/planning/simulation/main_callback/metric_summary_callback.py:339}  Metric summary: 00:00:01 [HH:MM:SS]\n",
      "2023-03-26 01:47:07,412 INFO {/hdd/vladislav/nuplan-devkit/nuplan/planning/script/run_simulation.py:82}  Finished running simulation!\n"
     ]
    },
    {
     "data": {
      "image/png": "[encoded data removed]",
      "text/plain": [
       "<Figure size 600x600 with 2 Axes>"
      ]
     },
     "metadata": {},
     "output_type": "display_data"
    },
    {
     "data": {
      "image/png": "[encoded data removed]",
      "text/plain": [
       "<Figure size 600x600 with 4 Axes>"
      ]
     },
     "metadata": {},
     "output_type": "display_data"
    },
    {
     "data": {
      "image/png": "[encoded data removed]",
      "text/plain": [
       "<Figure size 600x600 with 4 Axes>"
      ]
     },
     "metadata": {},
     "output_type": "display_data"
    }
   ],
   "source": [
    "from nuplan.planning.script.run_simulation import run_simulation as main_simulation\n",
    "from nuplan.planning.simulation.planner.idm_planner import IDMPlanner\n",
    "\n",
    "planner = IDMPlanner(target_velocity = 10,\\\n",
    "                    min_gap_to_lead_agent = 1.0,\\\n",
    "                    headway_time = 1.5,\\\n",
    "                    accel_max = 1,\\\n",
    "                    decel_max = 3.0,\\\n",
    "                    planned_trajectory_samples = 16,\\\n",
    "                    planned_trajectory_sample_interval = 0.5,\\\n",
    "                    occupancy_map_radius = 40)\n",
    "\n",
    "\n",
    "            \n",
    "# Run the simulation loop (real-time visualization not yet supported, see next section for visualization)\n",
    "main_simulation(cfg, planner)\n",
    "\n",
    "# Fetch the filesystem location of the simulation results file for visualization in nuBoard (next section)\n",
    "results_dir = list(list(list(Path(SAVE_DIR).iterdir())[0].iterdir())[0].iterdir())[0]  # get the child dir 2 levels in\n",
    "simulation_file = [str(file) for file in results_dir.iterdir() if file.is_file() and file.suffix == '.nuboard']"
   ]
  },
  {
   "cell_type": "markdown",
   "id": "c53b9c2e",
   "metadata": {
    "pycharm": {
     "name": "#%% md\n"
    }
   },
   "source": [
    "# Visualizing metrics and scenarios  <a name=\"dashboard\"></a>"
   ]
  },
  {
   "cell_type": "code",
   "execution_count": 23,
   "id": "b0d77fcb",
   "metadata": {},
   "outputs": [],
   "source": [
    "results_dir = list(list(list(Path(SAVE_DIR).iterdir())[0].iterdir())[0].iterdir())[0]  # get the child dir 2 levels in\n",
    "simulation_file = [str(file) for file in results_dir.iterdir() if file.is_file() and file.suffix == '.nuboard']"
   ]
  },
  {
   "cell_type": "markdown",
   "id": "7514e91c",
   "metadata": {
    "pycharm": {
     "name": "#%% md\n"
    }
   },
   "source": [
    "## nuBoard summary\n",
    "\n",
    "For visualization, we use nuBoard to evaluate the planner:\n",
    "* quantitatively, through common and scenario dependent metrics\n",
    "* qualitatively, through visualization of scenario progression\n",
    "\n",
    "### nuBoard tabs\n",
    "To achieve that, nuBoard has 3 core evaluation tabs:\n",
    "1. Overview - Scalar metrics summary of common and scenario metrics across the following categories:\n",
    "    * Ego dynamics\n",
    "    * Traffic violations\n",
    "    * Expert imitation\n",
    "    * Planning & navigation\n",
    "    * Scenario performance\n",
    "2. Histograms - Histograms over metric statistics for more a granular peek inside each metric focusing on:\n",
    "    * Metric statistics (e.g. min, max, p90)\n",
    "3. Scenarios - Low-level scenario visualizations:\n",
    "    * Time-series progression of a specific metric across a scenario\n",
    "    * Top-down visualization of the scenario across time for comparing predicted vs. expert trajectories\n",
    "\n",
    "In addition, there is a main configuration tab for selecting different simulation files for comparing planners/experiments.\n",
    "\n",
    "<br />\n",
    "\n",
    "**NOTE**: nuBoard is under heavy developement, overall functionality and aesthetics do not represent the final product!"
   ]
  },
  {
   "cell_type": "markdown",
   "id": "c546ba9d",
   "metadata": {
    "pycharm": {
     "name": "#%% md\n"
    }
   },
   "source": [
    "## Prepare the nuBoard config"
   ]
  },
  {
   "cell_type": "code",
   "execution_count": 24,
   "id": "24732d42",
   "metadata": {
    "pycharm": {
     "name": "#%%\n"
    }
   },
   "outputs": [
    {
     "name": "stderr",
     "output_type": "stream",
     "text": [
      "INFO:bokeh.server.views.ws:WebSocket connection closed: code=1001, reason=None\n"
     ]
    }
   ],
   "source": [
    "from tutorials.utils.tutorial_utils import construct_nuboard_hydra_paths\n",
    "\n",
    "# Location of paths with all nuBoard configs\n",
    "nuboard_hydra_paths = construct_nuboard_hydra_paths(BASE_CONFIG_PATH)\n",
    "\n",
    "# Initialize configuration management system\n",
    "hydra.core.global_hydra.GlobalHydra.instance().clear()  # reinitialize hydra if already initialized\n",
    "hydra.initialize(config_path=nuboard_hydra_paths.config_path)\n",
    "\n",
    "# Compose the configuration\n",
    "cfg = hydra.compose(config_name=nuboard_hydra_paths.config_name, overrides=[\n",
    "    'scenario_builder=nuplan_mini',  # set the database (same as simulation) used to fetch data for visualization\n",
    "    f'simulation_path={simulation_file}',  # nuboard file path, if left empty the user can open the file inside nuBoard\n",
    "    f'hydra.searchpath=[{nuboard_hydra_paths.common_dir}, {nuboard_hydra_paths.experiment_dir}]',\n",
    "])"
   ]
  },
  {
   "cell_type": "markdown",
   "id": "67acc351",
   "metadata": {
    "pycharm": {
     "name": "#%% md\n"
    }
   },
   "source": [
    "## Launch nuBoard (open in new tab)"
   ]
  },
  {
   "cell_type": "code",
   "execution_count": 25,
   "id": "d1a59ee2",
   "metadata": {
    "pycharm": {
     "name": "#%%\n"
    }
   },
   "outputs": [
    {
     "name": "stderr",
     "output_type": "stream",
     "text": [
      "INFO:bokeh.server.server:Starting Bokeh server version 2.4.3 (running on Tornado 6.2)\n"
     ]
    },
    {
     "name": "stdout",
     "output_type": "stream",
     "text": [
      "2023-03-26 01:50:10,766 INFO {/hdd/vladislav/nuplan-devkit/nuplan/planning/script/builders/scenario_building_builder.py:18}  Building AbstractScenarioBuilder...\n",
      "2023-03-26 01:50:10,787 INFO {/hdd/vladislav/nuplan-devkit/nuplan/planning/script/builders/scenario_building_builder.py:21}  Building AbstractScenarioBuilder...DONE!\n",
      "2023-03-26 01:50:10,789 INFO {/hdd/vladislav/nuplan-devkit/nuplan/planning/nuboard/nuboard.py:70}  Opening Bokeh application on http://localhost:5006/\n"
     ]
    },
    {
     "ename": "OSError",
     "evalue": "[Errno 98] Address already in use",
     "output_type": "error",
     "traceback": [
      "\u001b[0;31m---------------------------------------------------------------------------\u001b[0m",
      "\u001b[0;31mOSError\u001b[0m                                   Traceback (most recent call last)",
      "Cell \u001b[0;32mIn[25], line 4\u001b[0m\n\u001b[1;32m      1\u001b[0m \u001b[38;5;28;01mfrom\u001b[39;00m \u001b[38;5;21;01mnuplan\u001b[39;00m\u001b[38;5;21;01m.\u001b[39;00m\u001b[38;5;21;01mplanning\u001b[39;00m\u001b[38;5;21;01m.\u001b[39;00m\u001b[38;5;21;01mscript\u001b[39;00m\u001b[38;5;21;01m.\u001b[39;00m\u001b[38;5;21;01mrun_nuboard\u001b[39;00m \u001b[38;5;28;01mimport\u001b[39;00m main \u001b[38;5;28;01mas\u001b[39;00m main_nuboard\n\u001b[1;32m      3\u001b[0m \u001b[38;5;66;03m# Run nuBoard\u001b[39;00m\n\u001b[0;32m----> 4\u001b[0m \u001b[43mmain_nuboard\u001b[49m\u001b[43m(\u001b[49m\u001b[43mcfg\u001b[49m\u001b[43m)\u001b[49m\n",
      "File \u001b[0;32m~/anaconda3/envs/nuplan/lib/python3.9/site-packages/hydra/main.py:44\u001b[0m, in \u001b[0;36mmain.<locals>.main_decorator.<locals>.decorated_main\u001b[0;34m(cfg_passthrough)\u001b[0m\n\u001b[1;32m     41\u001b[0m \u001b[38;5;129m@functools\u001b[39m\u001b[38;5;241m.\u001b[39mwraps(task_function)\n\u001b[1;32m     42\u001b[0m \u001b[38;5;28;01mdef\u001b[39;00m \u001b[38;5;21mdecorated_main\u001b[39m(cfg_passthrough: Optional[DictConfig] \u001b[38;5;241m=\u001b[39m \u001b[38;5;28;01mNone\u001b[39;00m) \u001b[38;5;241m-\u001b[39m\u001b[38;5;241m>\u001b[39m Any:\n\u001b[1;32m     43\u001b[0m     \u001b[38;5;28;01mif\u001b[39;00m cfg_passthrough \u001b[38;5;129;01mis\u001b[39;00m \u001b[38;5;129;01mnot\u001b[39;00m \u001b[38;5;28;01mNone\u001b[39;00m:\n\u001b[0;32m---> 44\u001b[0m         \u001b[38;5;28;01mreturn\u001b[39;00m \u001b[43mtask_function\u001b[49m\u001b[43m(\u001b[49m\u001b[43mcfg_passthrough\u001b[49m\u001b[43m)\u001b[49m\n\u001b[1;32m     45\u001b[0m     \u001b[38;5;28;01melse\u001b[39;00m:\n\u001b[1;32m     46\u001b[0m         args \u001b[38;5;241m=\u001b[39m get_args_parser()\n",
      "File \u001b[0;32m/hdd/vladislav/nuplan-devkit/nuplan/planning/script/run_nuboard.py:68\u001b[0m, in \u001b[0;36mmain\u001b[0;34m(cfg)\u001b[0m\n\u001b[1;32m     63\u001b[0m \u001b[38;5;250m\u001b[39m\u001b[38;5;124;03m\"\"\"\u001b[39;00m\n\u001b[1;32m     64\u001b[0m \u001b[38;5;124;03mExecute all available challenges simultaneously on the same scenario.\u001b[39;00m\n\u001b[1;32m     65\u001b[0m \u001b[38;5;124;03m:param cfg: DictConfig. Configuration that is used to run the experiment.\u001b[39;00m\n\u001b[1;32m     66\u001b[0m \u001b[38;5;124;03m\"\"\"\u001b[39;00m\n\u001b[1;32m     67\u001b[0m nuboard \u001b[38;5;241m=\u001b[39m initialize_nuboard(cfg)\n\u001b[0;32m---> 68\u001b[0m \u001b[43mnuboard\u001b[49m\u001b[38;5;241;43m.\u001b[39;49m\u001b[43mrun\u001b[49m\u001b[43m(\u001b[49m\u001b[43m)\u001b[49m\n",
      "File \u001b[0;32m/hdd/vladislav/nuplan-devkit/nuplan/planning/nuboard/nuboard.py:85\u001b[0m, in \u001b[0;36mNuBoard.run\u001b[0;34m(self)\u001b[0m\n\u001b[1;32m     82\u001b[0m     \u001b[38;5;28mself\u001b[39m\u001b[38;5;241m.\u001b[39m_profiler\u001b[38;5;241m.\u001b[39mstart_profiler(\u001b[38;5;28mself\u001b[39m\u001b[38;5;241m.\u001b[39m_profiler_file_name)\n\u001b[1;32m     84\u001b[0m bokeh_app \u001b[38;5;241m=\u001b[39m Application(FunctionHandler(\u001b[38;5;28mself\u001b[39m\u001b[38;5;241m.\u001b[39mmain_page))\n\u001b[0;32m---> 85\u001b[0m server \u001b[38;5;241m=\u001b[39m \u001b[43mServer\u001b[49m\u001b[43m(\u001b[49m\n\u001b[1;32m     86\u001b[0m \u001b[43m    \u001b[49m\u001b[43m{\u001b[49m\u001b[38;5;124;43m\"\u001b[39;49m\u001b[38;5;124;43m/\u001b[39;49m\u001b[38;5;124;43m\"\u001b[39;49m\u001b[43m:\u001b[49m\u001b[43m \u001b[49m\u001b[43mbokeh_app\u001b[49m\u001b[43m}\u001b[49m\u001b[43m,\u001b[49m\n\u001b[1;32m     87\u001b[0m \u001b[43m    \u001b[49m\u001b[43mio_loop\u001b[49m\u001b[38;5;241;43m=\u001b[39;49m\u001b[43mio_loop\u001b[49m\u001b[43m,\u001b[49m\n\u001b[1;32m     88\u001b[0m \u001b[43m    \u001b[49m\u001b[43mport\u001b[49m\u001b[38;5;241;43m=\u001b[39;49m\u001b[38;5;28;43mself\u001b[39;49m\u001b[38;5;241;43m.\u001b[39;49m\u001b[43m_port_number\u001b[49m\u001b[43m,\u001b[49m\n\u001b[1;32m     89\u001b[0m \u001b[43m    \u001b[49m\u001b[43mallow_websocket_origin\u001b[49m\u001b[38;5;241;43m=\u001b[39;49m\u001b[43m[\u001b[49m\u001b[38;5;124;43m\"\u001b[39;49m\u001b[38;5;124;43m*\u001b[39;49m\u001b[38;5;124;43m\"\u001b[39;49m\u001b[43m]\u001b[49m\u001b[43m,\u001b[49m\n\u001b[1;32m     90\u001b[0m \u001b[43m    \u001b[49m\u001b[43mextra_patterns\u001b[49m\u001b[38;5;241;43m=\u001b[39;49m\u001b[43m[\u001b[49m\u001b[43m(\u001b[49m\u001b[38;5;124;43mr\u001b[39;49m\u001b[38;5;124;43m\"\u001b[39;49m\u001b[38;5;124;43m/resource/(.*)\u001b[39;49m\u001b[38;5;124;43m\"\u001b[39;49m\u001b[43m,\u001b[49m\u001b[43m \u001b[49m\u001b[43mStaticFileHandler\u001b[49m\u001b[43m,\u001b[49m\u001b[43m \u001b[49m\u001b[43m{\u001b[49m\u001b[38;5;124;43m\"\u001b[39;49m\u001b[38;5;124;43mpath\u001b[39;49m\u001b[38;5;124;43m\"\u001b[39;49m\u001b[43m:\u001b[49m\u001b[43m \u001b[49m\u001b[38;5;28;43mstr\u001b[39;49m\u001b[43m(\u001b[49m\u001b[38;5;28;43mself\u001b[39;49m\u001b[38;5;241;43m.\u001b[39;49m\u001b[43m_resource_path\u001b[49m\u001b[43m)\u001b[49m\u001b[43m}\u001b[49m\u001b[43m)\u001b[49m\u001b[43m]\u001b[49m\u001b[43m,\u001b[49m\n\u001b[1;32m     91\u001b[0m \u001b[43m\u001b[49m\u001b[43m)\u001b[49m\n\u001b[1;32m     92\u001b[0m server\u001b[38;5;241m.\u001b[39mstart()\n\u001b[1;32m     94\u001b[0m io_loop\u001b[38;5;241m.\u001b[39madd_callback(server\u001b[38;5;241m.\u001b[39mshow, \u001b[38;5;124m\"\u001b[39m\u001b[38;5;124m/\u001b[39m\u001b[38;5;124m\"\u001b[39m)\n",
      "File \u001b[0;32m~/anaconda3/envs/nuplan/lib/python3.9/site-packages/bokeh/server/server.py:426\u001b[0m, in \u001b[0;36mServer.__init__\u001b[0;34m(self, applications, io_loop, http_server_kwargs, **kwargs)\u001b[0m\n\u001b[1;32m    423\u001b[0m     context\u001b[38;5;241m.\u001b[39mload_cert_chain(certfile\u001b[38;5;241m=\u001b[39mopts\u001b[38;5;241m.\u001b[39mssl_certfile, keyfile\u001b[38;5;241m=\u001b[39mopts\u001b[38;5;241m.\u001b[39mssl_keyfile, password\u001b[38;5;241m=\u001b[39mopts\u001b[38;5;241m.\u001b[39mssl_password)\n\u001b[1;32m    424\u001b[0m     http_server_kwargs[\u001b[38;5;124m'\u001b[39m\u001b[38;5;124mssl_options\u001b[39m\u001b[38;5;124m'\u001b[39m] \u001b[38;5;241m=\u001b[39m context\n\u001b[0;32m--> 426\u001b[0m sockets, \u001b[38;5;28mself\u001b[39m\u001b[38;5;241m.\u001b[39m_port \u001b[38;5;241m=\u001b[39m \u001b[43mbind_sockets\u001b[49m\u001b[43m(\u001b[49m\u001b[43mopts\u001b[49m\u001b[38;5;241;43m.\u001b[39;49m\u001b[43maddress\u001b[49m\u001b[43m,\u001b[49m\u001b[43m \u001b[49m\u001b[43mopts\u001b[49m\u001b[38;5;241;43m.\u001b[39;49m\u001b[43mport\u001b[49m\u001b[43m)\u001b[49m\n\u001b[1;32m    427\u001b[0m \u001b[38;5;28mself\u001b[39m\u001b[38;5;241m.\u001b[39m_address \u001b[38;5;241m=\u001b[39m opts\u001b[38;5;241m.\u001b[39maddress\n\u001b[1;32m    429\u001b[0m extra_websocket_origins \u001b[38;5;241m=\u001b[39m create_hosts_allowlist(opts\u001b[38;5;241m.\u001b[39mallow_websocket_origin, \u001b[38;5;28mself\u001b[39m\u001b[38;5;241m.\u001b[39mport)\n",
      "File \u001b[0;32m~/anaconda3/envs/nuplan/lib/python3.9/site-packages/bokeh/server/util.py:73\u001b[0m, in \u001b[0;36mbind_sockets\u001b[0;34m(address, port)\u001b[0m\n\u001b[1;32m     53\u001b[0m \u001b[38;5;28;01mdef\u001b[39;00m \u001b[38;5;21mbind_sockets\u001b[39m(address: \u001b[38;5;28mstr\u001b[39m \u001b[38;5;241m|\u001b[39m \u001b[38;5;28;01mNone\u001b[39;00m, port: \u001b[38;5;28mint\u001b[39m) \u001b[38;5;241m-\u001b[39m\u001b[38;5;241m>\u001b[39m Tuple[List[socket], \u001b[38;5;28mint\u001b[39m]:\n\u001b[1;32m     54\u001b[0m \u001b[38;5;250m    \u001b[39m\u001b[38;5;124;03m''' Bind a socket to a port on an address.\u001b[39;00m\n\u001b[1;32m     55\u001b[0m \n\u001b[1;32m     56\u001b[0m \u001b[38;5;124;03m    Args:\u001b[39;00m\n\u001b[0;32m   (...)\u001b[0m\n\u001b[1;32m     71\u001b[0m \n\u001b[1;32m     72\u001b[0m \u001b[38;5;124;03m    '''\u001b[39;00m\n\u001b[0;32m---> 73\u001b[0m     ss \u001b[38;5;241m=\u001b[39m \u001b[43mnetutil\u001b[49m\u001b[38;5;241;43m.\u001b[39;49m\u001b[43mbind_sockets\u001b[49m\u001b[43m(\u001b[49m\u001b[43mport\u001b[49m\u001b[38;5;241;43m=\u001b[39;49m\u001b[43mport\u001b[49m\u001b[43m \u001b[49m\u001b[38;5;129;43;01mor\u001b[39;49;00m\u001b[43m \u001b[49m\u001b[38;5;241;43m0\u001b[39;49m\u001b[43m,\u001b[49m\u001b[43m \u001b[49m\u001b[43maddress\u001b[49m\u001b[38;5;241;43m=\u001b[39;49m\u001b[43maddress\u001b[49m\u001b[43m)\u001b[49m\n\u001b[1;32m     74\u001b[0m     \u001b[38;5;28;01massert\u001b[39;00m \u001b[38;5;28mlen\u001b[39m(ss)\n\u001b[1;32m     75\u001b[0m     ports \u001b[38;5;241m=\u001b[39m {s\u001b[38;5;241m.\u001b[39mgetsockname()[\u001b[38;5;241m1\u001b[39m] \u001b[38;5;28;01mfor\u001b[39;00m s \u001b[38;5;129;01min\u001b[39;00m ss}\n",
      "File \u001b[0;32m~/anaconda3/envs/nuplan/lib/python3.9/site-packages/tornado/netutil.py:162\u001b[0m, in \u001b[0;36mbind_sockets\u001b[0;34m(port, address, family, backlog, flags, reuse_port)\u001b[0m\n\u001b[1;32m    160\u001b[0m sock\u001b[38;5;241m.\u001b[39msetblocking(\u001b[38;5;28;01mFalse\u001b[39;00m)\n\u001b[1;32m    161\u001b[0m \u001b[38;5;28;01mtry\u001b[39;00m:\n\u001b[0;32m--> 162\u001b[0m     \u001b[43msock\u001b[49m\u001b[38;5;241;43m.\u001b[39;49m\u001b[43mbind\u001b[49m\u001b[43m(\u001b[49m\u001b[43msockaddr\u001b[49m\u001b[43m)\u001b[49m\n\u001b[1;32m    163\u001b[0m \u001b[38;5;28;01mexcept\u001b[39;00m \u001b[38;5;167;01mOSError\u001b[39;00m \u001b[38;5;28;01mas\u001b[39;00m e:\n\u001b[1;32m    164\u001b[0m     \u001b[38;5;28;01mif\u001b[39;00m (\n\u001b[1;32m    165\u001b[0m         errno_from_exception(e) \u001b[38;5;241m==\u001b[39m errno\u001b[38;5;241m.\u001b[39mEADDRNOTAVAIL\n\u001b[1;32m    166\u001b[0m         \u001b[38;5;129;01mand\u001b[39;00m address \u001b[38;5;241m==\u001b[39m \u001b[38;5;124m\"\u001b[39m\u001b[38;5;124mlocalhost\u001b[39m\u001b[38;5;124m\"\u001b[39m\n\u001b[0;32m   (...)\u001b[0m\n\u001b[1;32m    178\u001b[0m         \u001b[38;5;66;03m# might be a real problem like a typo in a\u001b[39;00m\n\u001b[1;32m    179\u001b[0m         \u001b[38;5;66;03m# configuration.\u001b[39;00m\n",
      "\u001b[0;31mOSError\u001b[0m: [Errno 98] Address already in use"
     ]
    },
    {
     "name": "stdout",
     "output_type": "stream",
     "text": [
      "2023-03-26 01:50:18,248 INFO {/hdd/vladislav/nuplan-devkit/nuplan/planning/nuboard/tabs/scenario_tab.py:479}  Rending scenario plot takes 0.0014 seconds.\n",
      "2023-03-26 01:50:18,356 INFO {/home/vladislav/anaconda3/envs/nuplan/lib/python3.9/site-packages/tornado/web.py:2271}  200 GET / (::1) 179.06ms\n"
     ]
    },
    {
     "name": "stderr",
     "output_type": "stream",
     "text": [
      "INFO:tornado.access:200 GET / (::1) 179.06ms\n",
      "INFO:bokeh.server.views.ws:WebSocket connection opened\n",
      "INFO:tornado.access:101 GET /ws (::1) 0.43ms\n",
      "INFO:bokeh.server.views.ws:ServerConnection created\n"
     ]
    },
    {
     "name": "stdout",
     "output_type": "stream",
     "text": [
      "2023-03-26 01:50:18,634 INFO {/home/vladislav/anaconda3/envs/nuplan/lib/python3.9/site-packages/tornado/web.py:2271}  101 GET /ws (::1) 0.43ms\n",
      "2023-03-26 01:55:33,935 INFO {/hdd/vladislav/nuplan-devkit/nuplan/planning/nuboard/tabs/scenario_tab.py:479}  Rending scenario plot takes 0.0195 seconds.\n",
      "2023-03-26 01:55:33,999 INFO {/hdd/vladislav/nuplan-devkit/nuplan/planning/nuboard/tabs/scenario_tab.py:479}  Rending scenario plot takes 0.0171 seconds.\n",
      "2023-03-26 01:56:30,209 INFO {/hdd/vladislav/nuplan-devkit/nuplan/planning/nuboard/tabs/scenario_tab.py:479}  Rending scenario plot takes 0.0158 seconds.\n",
      "2023-03-26 01:56:30,908 INFO {/hdd/vladislav/nuplan-devkit/nuplan/planning/nuboard/tabs/scenario_tab.py:479}  Rending scenario plot takes 0.0160 seconds.\n",
      "2023-03-26 01:56:43,014 INFO {/hdd/vladislav/nuplan-devkit/nuplan/planning/nuboard/tabs/scenario_tab.py:479}  Rending scenario plot takes 0.0180 seconds.\n",
      "2023-03-26 01:56:44,646 INFO {/hdd/vladislav/nuplan-devkit/nuplan/planning/nuboard/tabs/scenario_tab.py:479}  Rending scenario plot takes 0.0160 seconds.\n"
     ]
    },
    {
     "name": "stderr",
     "output_type": "stream",
     "text": [
      "INFO:tornado.access:200 GET / (::1) 184.21ms\n",
      "INFO:bokeh.server.views.ws:WebSocket connection closed: code=1001, reason=None\n"
     ]
    },
    {
     "name": "stdout",
     "output_type": "stream",
     "text": [
      "2023-03-26 01:57:53,076 INFO {/hdd/vladislav/nuplan-devkit/nuplan/planning/nuboard/tabs/scenario_tab.py:479}  Rending scenario plot takes 0.0014 seconds.\n",
      "2023-03-26 01:57:53,183 INFO {/home/vladislav/anaconda3/envs/nuplan/lib/python3.9/site-packages/tornado/web.py:2271}  200 GET / (::1) 184.21ms\n"
     ]
    },
    {
     "name": "stderr",
     "output_type": "stream",
     "text": [
      "INFO:tornado.access:101 GET /ws (::1) 0.44ms\n",
      "INFO:bokeh.server.views.ws:WebSocket connection opened\n",
      "INFO:bokeh.server.views.ws:ServerConnection created\n"
     ]
    },
    {
     "name": "stdout",
     "output_type": "stream",
     "text": [
      "2023-03-26 01:57:53,449 INFO {/home/vladislav/anaconda3/envs/nuplan/lib/python3.9/site-packages/tornado/web.py:2271}  101 GET /ws (::1) 0.44ms\n",
      "2023-03-26 01:58:03,193 INFO {/hdd/vladislav/nuplan-devkit/nuplan/planning/nuboard/tabs/scenario_tab.py:479}  Rending scenario plot takes 0.0177 seconds.\n",
      "2023-03-26 01:58:03,246 INFO {/hdd/vladislav/nuplan-devkit/nuplan/planning/nuboard/tabs/scenario_tab.py:479}  Rending scenario plot takes 0.0174 seconds.\n",
      "2023-03-26 01:58:12,428 INFO {/hdd/vladislav/nuplan-devkit/nuplan/planning/nuboard/tabs/scenario_tab.py:479}  Rending scenario plot takes 0.0177 seconds.\n",
      "2023-03-26 01:58:12,481 INFO {/hdd/vladislav/nuplan-devkit/nuplan/planning/nuboard/tabs/scenario_tab.py:479}  Rending scenario plot takes 0.0177 seconds.\n",
      "2023-03-26 02:37:18,843 INFO {/hdd/vladislav/nuplan-devkit/nuplan/planning/nuboard/tabs/scenario_tab.py:479}  Rending scenario plot takes 0.0159 seconds.\n",
      "2023-03-26 02:37:19,308 INFO {/hdd/vladislav/nuplan-devkit/nuplan/planning/nuboard/tabs/scenario_tab.py:479}  Rending scenario plot takes 0.0162 seconds.\n",
      "2023-03-26 02:37:19,771 INFO {/hdd/vladislav/nuplan-devkit/nuplan/planning/nuboard/tabs/scenario_tab.py:479}  Rending scenario plot takes 0.0156 seconds.\n",
      "2023-03-26 02:37:26,041 INFO {/hdd/vladislav/nuplan-devkit/nuplan/planning/nuboard/tabs/scenario_tab.py:479}  Rending scenario plot takes 0.0184 seconds.\n",
      "2023-03-26 02:37:26,078 INFO {/hdd/vladislav/nuplan-devkit/nuplan/planning/nuboard/tabs/scenario_tab.py:479}  Rending scenario plot takes 0.0199 seconds.\n"
     ]
    }
   ],
   "source": [
    "from nuplan.planning.script.run_nuboard import main as main_nuboard\n",
    "\n",
    "# Run nuBoard\n",
    "main_nuboard(cfg)"
   ]
  },
  {
   "cell_type": "code",
   "execution_count": null,
   "id": "70eb046d",
   "metadata": {},
   "outputs": [],
   "source": []
  }
 ],
 "metadata": {
  "interpreter": {
   "hash": "5aea00fa936a67f14323fa2d54163d7dc1f328c617e433b03a680f73ee2dd426"
  },
  "kernelspec": {
   "display_name": "Python 3 (ipykernel)",
   "language": "python",
   "name": "python3"
  },
  "language_info": {
   "codemirror_mode": {
    "name": "ipython",
    "version": 3
   },
   "file_extension": ".py",
   "mimetype": "text/x-python",
   "name": "python",
   "nbconvert_exporter": "python",
   "pygments_lexer": "ipython3",
   "version": "3.9.16"
  }
 },
 "nbformat": 4,
 "nbformat_minor": 5
}
